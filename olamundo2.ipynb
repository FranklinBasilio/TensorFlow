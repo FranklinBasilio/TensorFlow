import tensorflow as tf
#.Session() foi desativado agora se usa .compat.v1.Session()
with tf.compat.v1.Session() as sess:
  frase = tf.constant('Ola, mundo!')
  rodar = sess.run(frase)
print(rodar.decode('UTF-8'))
